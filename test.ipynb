{
 "cells": [
  {
   "cell_type": "code",
   "execution_count": 9,
   "metadata": {},
   "outputs": [],
   "source": [
    "from auditok import split\n",
    "from auditok import AudioRegion"
   ]
  },
  {
   "cell_type": "code",
   "execution_count": 11,
   "metadata": {},
   "outputs": [],
   "source": [
    "region = AudioRegion.load('./data/Track 2.wav')\n"
   ]
  },
  {
   "cell_type": "code",
   "execution_count": 12,
   "metadata": {},
   "outputs": [
    {
     "data": {
      "text/plain": [
       "AudioRegion(duration=154.333, sampling_rate=44100, sample_width=2, channels=2)"
      ]
     },
     "execution_count": 12,
     "metadata": {},
     "output_type": "execute_result"
    }
   ],
   "source": [
    "# PYO\n",
    "# pyAudioAnalysis\n",
    "# Dejavu\n",
    "# Mingus\n",
    "# hYPerSonic\n",
    "# Pydub\n",
    "# Loris"
   ]
  }
 ],
 "metadata": {
  "kernelspec": {
   "display_name": "conda_env_shadow",
   "language": "python",
   "name": "conda_env_shadow"
  },
  "language_info": {
   "codemirror_mode": {
    "name": "ipython",
    "version": 3
   },
   "file_extension": ".py",
   "mimetype": "text/x-python",
   "name": "python",
   "nbconvert_exporter": "python",
   "pygments_lexer": "ipython3",
   "version": "3.6.10"
  }
 },
 "nbformat": 4,
 "nbformat_minor": 2
}
